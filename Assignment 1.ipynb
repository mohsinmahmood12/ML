{
 "cells": [
  {
   "cell_type": "code",
   "execution_count": 15,
   "id": "4c5219b1",
   "metadata": {},
   "outputs": [],
   "source": [
    "import numpy as np\n",
    "from sklearn.linear_model import LinearRegression\n",
    "from sklearn.model_selection import train_test_split\n",
    "from sklearn.metrics import mean_squared_error\n",
    "from sklearn.metrics import r2_score\n",
    "import matplotlib.pyplot as plt"
   ]
  },
  {
   "cell_type": "code",
   "execution_count": 16,
   "id": "2b97d46a",
   "metadata": {},
   "outputs": [],
   "source": [
    "x = np.random.uniform(0,1,100) #Generating 100 points from 0 to 1\n",
    "x = x.reshape(-1, 1)"
   ]
  },
  {
   "cell_type": "code",
   "execution_count": 17,
   "id": "fcb92ec7",
   "metadata": {},
   "outputs": [],
   "source": [
    "y = [(-19*i-9) for i in x]\n",
    "y = np.array(y)  #Converting Python List into numpy array"
   ]
  },
  {
   "cell_type": "code",
   "execution_count": 23,
   "id": "aefb16d5",
   "metadata": {},
   "outputs": [],
   "source": [
    "noise = np.random.normal(0, 1, y.shape) #Adding guassian noise to y with mean 1 and std 0\n",
    "y = y + noise"
   ]
  },
  {
   "cell_type": "code",
   "execution_count": 24,
   "id": "a97447fa",
   "metadata": {},
   "outputs": [],
   "source": [
    "X_train,X_test,y_train,y_test = train_test_split(x,y,test_size=0.2) "
   ]
  },
  {
   "cell_type": "code",
   "execution_count": 25,
   "id": "ca327a30",
   "metadata": {},
   "outputs": [],
   "source": [
    "clf = LinearRegression(normalize=True)"
   ]
  },
  {
   "cell_type": "code",
   "execution_count": 26,
   "id": "9ec5e99c",
   "metadata": {},
   "outputs": [
    {
     "data": {
      "text/plain": [
       "LinearRegression(normalize=True)"
      ]
     },
     "execution_count": 26,
     "metadata": {},
     "output_type": "execute_result"
    }
   ],
   "source": [
    "clf.fit(x,y)"
   ]
  },
  {
   "cell_type": "code",
   "execution_count": 27,
   "id": "5d26a01a",
   "metadata": {},
   "outputs": [
    {
     "data": {
      "text/plain": [
       "0.9697029474782364"
      ]
     },
     "execution_count": 27,
     "metadata": {},
     "output_type": "execute_result"
    }
   ],
   "source": [
    "clf.score(X_train,y_train)"
   ]
  },
  {
   "cell_type": "code",
   "execution_count": 28,
   "id": "5ec50188",
   "metadata": {},
   "outputs": [],
   "source": [
    "y_pred = clf.predict(X_test)"
   ]
  },
  {
   "cell_type": "code",
   "execution_count": 29,
   "id": "831ccfb5",
   "metadata": {},
   "outputs": [],
   "source": [
    "r2_score = r2_score(y_test,y_pred)"
   ]
  },
  {
   "cell_type": "code",
   "execution_count": 30,
   "id": "3254e882",
   "metadata": {},
   "outputs": [
    {
     "name": "stdout",
     "output_type": "stream",
     "text": [
      "Testing Score : 0.9798917793090087\n"
     ]
    }
   ],
   "source": [
    "print(f\"Testing Score : {r2_score}\")"
   ]
  },
  {
   "cell_type": "code",
   "execution_count": 31,
   "id": "2bccaed3",
   "metadata": {},
   "outputs": [
    {
     "data": {
      "image/png": "[encoded data removed]",
      "text/plain": [
       "<Figure size 576x432 with 1 Axes>"
      ]
     },
     "metadata": {
      "needs_background": "light"
     },
     "output_type": "display_data"
    }
   ],
   "source": [
    "plt.figure(figsize=(8,6))\n",
    "plt.title('Data distribution')\n",
    "plt.scatter(x, y)\n",
    "plt.xlabel('X')\n",
    "plt.ylabel('y')\n",
    "plt.show()"
   ]
  },
  {
   "cell_type": "code",
   "execution_count": 32,
   "id": "a820bb09",
   "metadata": {},
   "outputs": [],
   "source": [
    "def Mean_Squared_Error(actual, predicted):\n",
    "    sum_error = 0.0\n",
    "    for i in range(len(actual)):\n",
    "        prediction_error = predicted[i] - actual[i]\n",
    "        sum_error += (prediction_error ** 2) \n",
    "        mean_error = sum_error / float(len(actual))\n",
    "    return mean_error"
   ]
  },
  {
   "cell_type": "code",
   "execution_count": 35,
   "id": "be575a5b",
   "metadata": {},
   "outputs": [
    {
     "data": {
      "text/plain": [
       "array([0.73789013])"
      ]
     },
     "execution_count": 35,
     "metadata": {},
     "output_type": "execute_result"
    }
   ],
   "source": [
    "Mean_Squared_Error(y_test,y_pred) #Mean_sqaured error from scratch"
   ]
  },
  {
   "cell_type": "code",
   "execution_count": 36,
   "id": "ad7f38f3",
   "metadata": {},
   "outputs": [
    {
     "data": {
      "text/plain": [
       "0.7378901337325056"
      ]
     },
     "execution_count": 36,
     "metadata": {},
     "output_type": "execute_result"
    }
   ],
   "source": [
    "mean_squared_error(y_test,y_pred)  #Using sklearn.metrics"
   ]
  },
  {
   "cell_type": "code",
   "execution_count": 34,
   "id": "6f30ad98",
   "metadata": {},
   "outputs": [
    {
     "data": {
      "image/png": "[encoded data removed]",
      "text/plain": [
       "<Figure size 432x288 with 1 Axes>"
      ]
     },
     "metadata": {
      "needs_background": "light"
     },
     "output_type": "display_data"
    }
   ],
   "source": [
    "plt.scatter(x, y,color='g')\n",
    "plt.plot(x, clf.predict(x),color='k')\n",
    "plt.show()"
   ]
  },
  {
   "cell_type": "code",
   "execution_count": null,
   "id": "45517bec",
   "metadata": {},
   "outputs": [],
   "source": []
  }
 ],
 "metadata": {
  "kernelspec": {
   "display_name": "Python 3 (ipykernel)",
   "language": "python",
   "name": "python3"
  },
  "language_info": {
   "codemirror_mode": {
    "name": "ipython",
    "version": 3
   },
   "file_extension": ".py",
   "mimetype": "text/x-python",
   "name": "python",
   "nbconvert_exporter": "python",
   "pygments_lexer": "ipython3",
   "version": "3.9.5"
  }
 },
 "nbformat": 4,
 "nbformat_minor": 5
}
